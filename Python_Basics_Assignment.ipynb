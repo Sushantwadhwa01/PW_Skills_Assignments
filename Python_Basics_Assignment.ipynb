{
 "cells": [
  {
   "cell_type": "raw",
   "id": "d77758d1-0f49-4633-9f42-30d5fa034a92",
   "metadata": {},
   "source": [
    "THEORETICAL QUESTIONS\n",
    "1. What is Python, and why is it popular ?\n",
    "   Ans: Python is a programming language in which set of rule or instruction / codes has been inserted so that computer can execute specific task.\n",
    "   Python is easy to understand and write, which makes it a popular choice among developers and programmers worldwide.\n",
    "\n",
    "   Python is popular because:-\n",
    " - it is compatible with various programming paradiagms , like procedural, object-oriented , functional programming etc.\n",
    " - it is versatile.\n",
    " - scalability\n",
    " - simplicity and readability\n",
    " - good & vast ecosystem of libraries like pandas, numpy, matplotlib, pycharm etc.\n",
    " - community support as it is used all around the world.\n",
    "\n",
    "2. What is an interpreter in python ?\n",
    "   Ans: An interpreter is a program that executes code line-by-line. Python uses an interpreter to convert the source code into\n",
    "   machine code, which makes it easier to debug and test.\n",
    "\n",
    "3. What are pre-defined keywords in python ?\n",
    "   Ans: Pre-defined keywords are reserved words in python that have special meaning, such as if, else, for, while, def, and\n",
    "   return. They cannot be used as identifiers (variable names, function names, etc.).\n",
    "\n",
    "4. Can keywords be used as variable names ?\n",
    "   Ans: No, Python keywords cannot be used as variable names because they are reserved for specific functions within the\n",
    "   language and are used for syntax and structure.\n",
    "\n",
    "5. What is mutability in Python ?\n",
    "   Ans: Mutability refers to the ability of an object to be changed after it is created. Mutable objects include lists and\n",
    "   dictionaries, Mutability affects how objects are stored and manipulated in memory.\n",
    "\n",
    "6. Why are lists mutable, but tuples are immutable ?\n",
    "   Ans: Lists are mutable to allow dynamic modifications such an adding, removing, or changing elements. Tuples are\n",
    "   immutable for safety and performance reasons, especially when used as keys in dictionaries.\n",
    "\n",
    "7. What is the difference between \" == \" and \"is\" operators in Python ?\n",
    "   Ans: '==' checks for value equality, while \"is\" checks for identity ( whether both operands refer to the same object in memory).\n",
    "\n",
    "8. What are logical operators in Python ?\n",
    "   Ans: In Python, Logical operators are used to logically decides something.There are three main logical operators: and, or, and not.\n",
    "   for example:\n",
    "   and:\n",
    "   true and true = true\n",
    "   true and false = false\n",
    "   false and true = false\n",
    "   false and false = false\n",
    "\n",
    "   or:\n",
    "   true or true = true\n",
    "   true or false = true\n",
    "   false or true = true\n",
    "   false or false = false\n",
    "\n",
    "9. What is type casting in Python ?\n",
    "   Ans: Type casting is the process of converting a variable from one data type to another, such as from 'str\" to \"int\".\n",
    "\n",
    "10. What is the difference between implicit and explicit type casting ?\n",
    "    Ans: Implicit casting is done automatically by Python (e.g. int to float ). Explicit casting is done manually by the programmer\n",
    "    using functions like \"int()\", \"float()\", \"str()\".\n",
    "\n",
    "11. What is the purpose of conditional statements in Python ?\n",
    "    Ans: Conditional statements allow the program to make decisions and execute certain parts of code based on given\n",
    "    conditions using 'if\", \"elif', and \"else\".\n",
    "\n",
    "12. How does the elif statement work ?\n",
    "    Ans: The 'elif\" ( else if ) statement allows checking multiple expressions for \"True' after an initial \"if' check. It executes the\n",
    "    block of code for the first condition that evaluates to 'True'.\n",
    "\n",
    "13. What is the difference between for and while loops ?\n",
    "    Ans: \"for\" loop:\n",
    "    Primarily used for iterating over a sequence (like a list, tuple, string, or range) or any iterable object. It is used when the number of              iterations is usually known in advance.\n",
    "\n",
    "    \"while\" loop:\n",
    "    Used to repeatedly execute a block of code as long as a specified condition is true. It's suitable when the number of iterations is not known          beforehand and depends on a condition.\n",
    "\n",
    "14. Describe a scenario where a while loop is more suitable than a for loop.\n",
    "    Ans: A while loop is more suitable than a for loop when the number of iterations is not known in advance and the loop should continue based on a       condition rather than a counter.Scenario example, imagine you're writing a program that prompts the user to enter a password. The user can keep        trying until they enter the correct one. You don't know how many attempts the user will need, so a while loop is more appropriate.\n",
    "\n"
   ]
  },
  {
   "cell_type": "raw",
   "id": "461a6a71-261d-44ff-a107-2b97e4c56153",
   "metadata": {},
   "source": [
    "PRACTICAL QUESTIONS"
   ]
  },
  {
   "cell_type": "raw",
   "id": "4d0451d1-d404-40b7-85cd-61af938ea999",
   "metadata": {},
   "source": [
    "Q1 Write a Python program to print \"Hello, World!\""
   ]
  },
  {
   "cell_type": "code",
   "execution_count": 1,
   "id": "cff6ec39-b0fb-41b7-875f-e28f7a4ad19f",
   "metadata": {},
   "outputs": [
    {
     "name": "stdout",
     "output_type": "stream",
     "text": [
      "Hello, World!\n"
     ]
    }
   ],
   "source": [
    "#1\n",
    "print(\"Hello, World!\")"
   ]
  },
  {
   "cell_type": "raw",
   "id": "754e9558-9197-4bc7-a3a0-6da6c65ef423",
   "metadata": {},
   "source": [
    "Q2 Write a Python program that displays your name and age."
   ]
  },
  {
   "cell_type": "code",
   "execution_count": 2,
   "id": "abf2d923-d5b0-49a9-8320-f4f92de28e93",
   "metadata": {},
   "outputs": [
    {
     "name": "stdout",
     "output_type": "stream",
     "text": [
      "My name is Sushant Wadhwa and my age is 23 years.\n"
     ]
    }
   ],
   "source": [
    "#2\n",
    "print (\"My name is Sushant Wadhwa and my age is 23 years.\")"
   ]
  },
  {
   "cell_type": "raw",
   "id": "9bc9ccdb-86e3-4107-98bd-480bc477f67e",
   "metadata": {},
   "source": [
    "Q3 Write code to print all the pre-defined keywords in Python using the keyword library."
   ]
  },
  {
   "cell_type": "code",
   "execution_count": 3,
   "id": "da7f494f-8ff4-4502-9ec0-ae235844a036",
   "metadata": {},
   "outputs": [
    {
     "name": "stdout",
     "output_type": "stream",
     "text": [
      "['False', 'None', 'True', 'and', 'as', 'assert', 'async', 'await', 'break', 'class', 'continue', 'def', 'del', 'elif', 'else', 'except', 'finally', 'for', 'from', 'global', 'if', 'import', 'in', 'is', 'lambda', 'nonlocal', 'not', 'or', 'pass', 'raise', 'return', 'try', 'while', 'with', 'yield']\n"
     ]
    }
   ],
   "source": [
    "#3\n",
    "import keyword\n",
    "print (keyword.kwlist)"
   ]
  },
  {
   "cell_type": "raw",
   "id": "8c9e12d3-5ddf-44cd-a2c8-5afb4ba15db7",
   "metadata": {},
   "source": [
    "Q4 Write a program that checks if a given word is a Python keyword."
   ]
  },
  {
   "cell_type": "code",
   "execution_count": 4,
   "id": "9e3e591b-9bf6-4880-b3ac-d376fd99fc93",
   "metadata": {},
   "outputs": [],
   "source": [
    "#4\n",
    "def keyword_check (word):\n",
    "    if keyword.iskeyword (word):\n",
    "        print (\"Yes, it is a keyword.\")\n",
    "    else:\n",
    "        print (\"No, it is not a keyword.\")"
   ]
  },
  {
   "cell_type": "code",
   "execution_count": 5,
   "id": "bb942004-4603-4603-ae79-2b260b9cbd2c",
   "metadata": {},
   "outputs": [
    {
     "name": "stdin",
     "output_type": "stream",
     "text": [
      "Give your word:  False\n"
     ]
    },
    {
     "name": "stdout",
     "output_type": "stream",
     "text": [
      "Yes, it is a keyword.\n"
     ]
    }
   ],
   "source": [
    "word = input(\"Give your word: \")\n",
    "keyword_check (word)"
   ]
  },
  {
   "cell_type": "code",
   "execution_count": 6,
   "id": "eabb47ee-54cc-4413-a038-0f33f7c54259",
   "metadata": {},
   "outputs": [
    {
     "name": "stdin",
     "output_type": "stream",
     "text": [
      "Give your word:  false\n"
     ]
    },
    {
     "name": "stdout",
     "output_type": "stream",
     "text": [
      "No, it is not a keyword.\n"
     ]
    }
   ],
   "source": [
    "word = input(\"Give your word: \")\n",
    "keyword_check (word)"
   ]
  },
  {
   "cell_type": "raw",
   "id": "034bacad-5faf-4682-97e7-92c39f065558",
   "metadata": {},
   "source": [
    "Q5 Create a list and tuple in Python, and demonstrate how attempting to change an element works differently\n",
    "for each."
   ]
  },
  {
   "cell_type": "code",
   "execution_count": 7,
   "id": "915aeb59-fa70-4184-8d8c-76a8c454edc8",
   "metadata": {},
   "outputs": [
    {
     "data": {
      "text/plain": [
       "[1, 2, 'Sushant', 4, 'pwskills']"
      ]
     },
     "execution_count": 7,
     "metadata": {},
     "output_type": "execute_result"
    }
   ],
   "source": [
    "#5\n",
    "#List (mutable)\n",
    "lst1 = [1, 2, 3, 4, \"pwskills\"]\n",
    "lst1[2] = \"Sushant\"\n",
    "lst1"
   ]
  },
  {
   "cell_type": "code",
   "execution_count": 8,
   "id": "588cde35-24a6-44ee-8e97-67e68f8a076e",
   "metadata": {},
   "outputs": [
    {
     "data": {
      "text/plain": [
       "(1, 2, 'Sushant', 4, 'pwskills')"
      ]
     },
     "execution_count": 8,
     "metadata": {},
     "output_type": "execute_result"
    }
   ],
   "source": [
    "#Tuple (immutable)\n",
    "tup1 = (1, 2, 3, 4, \"pwskills\")\n",
    "#tuple is converted into a list as a tuple is immutable whereas a list is mutable hence we can make changes to a list but not a tuple.\n",
    "tup1_list = list(tup1)\n",
    "tup1_list[2] = \"Sushant\"\n",
    "tup1_new = tuple(tup1_list)\n",
    "tup1_new"
   ]
  },
  {
   "cell_type": "raw",
   "id": "2c98ea1b-f93b-4218-b824-e522159e15ff",
   "metadata": {},
   "source": [
    "Q6 Write a function to demonstrate the behavior of mutable and immutable arguments."
   ]
  },
  {
   "cell_type": "code",
   "execution_count": 19,
   "id": "ee39e740-38fb-45b0-94e3-44a8ad4c6225",
   "metadata": {},
   "outputs": [
    {
     "data": {
      "text/plain": [
       "[1, 2, 3, 4, 5]"
      ]
     },
     "execution_count": 19,
     "metadata": {},
     "output_type": "execute_result"
    }
   ],
   "source": [
    "#6\n",
    "lst1 = [1, 2, 3, 4, \"pwskills\"]\n",
    "#Mutability\n",
    "#List can be modified hence mutable.\n",
    "lst1[4] = 5\n",
    "lst1"
   ]
  },
  {
   "cell_type": "code",
   "execution_count": 20,
   "id": "c50b99fd-4935-4fd4-9c0a-cf5c12110277",
   "metadata": {},
   "outputs": [
    {
     "ename": "TypeError",
     "evalue": "'tuple' object does not support item assignment",
     "output_type": "error",
     "traceback": [
      "\u001b[31m---------------------------------------------------------------------------\u001b[39m",
      "\u001b[31mTypeError\u001b[39m                                 Traceback (most recent call last)",
      "\u001b[36mCell\u001b[39m\u001b[36m \u001b[39m\u001b[32mIn[20]\u001b[39m\u001b[32m, line 4\u001b[39m\n\u001b[32m      1\u001b[39m tup1 = (\u001b[32m1\u001b[39m, \u001b[32m2\u001b[39m, \u001b[32m3\u001b[39m, \u001b[32m4\u001b[39m, \u001b[33m\"\u001b[39m\u001b[33mpwskills\u001b[39m\u001b[33m\"\u001b[39m)\n\u001b[32m      2\u001b[39m \u001b[38;5;66;03m#Immutability\u001b[39;00m\n\u001b[32m      3\u001b[39m \u001b[38;5;66;03m#Tuple can not be modified that is why code doesnt run and gives error and hence immutable.\u001b[39;00m\n\u001b[32m----> \u001b[39m\u001b[32m4\u001b[39m \u001b[43mtup1\u001b[49m\u001b[43m[\u001b[49m\u001b[32;43m4\u001b[39;49m\u001b[43m]\u001b[49m = \u001b[32m5\u001b[39m\n\u001b[32m      5\u001b[39m tup1\n",
      "\u001b[31mTypeError\u001b[39m: 'tuple' object does not support item assignment"
     ]
    }
   ],
   "source": [
    "tup1 = (1, 2, 3, 4, \"pwskills\")\n",
    "#Immutability\n",
    "#Tuple can not be modified that is why code doesnt run and gives error and hence immutable.\n",
    "tup1[4] = 5\n",
    "tup1"
   ]
  },
  {
   "cell_type": "raw",
   "id": "9ea618ad-32d6-49c9-b846-0d592ec37e49",
   "metadata": {},
   "source": [
    "Q7  Write a program that performs basic arithmetic operations on two user-input numbers."
   ]
  },
  {
   "cell_type": "code",
   "execution_count": 9,
   "id": "f368ccfa-7de1-4f5c-8521-84effffec291",
   "metadata": {},
   "outputs": [
    {
     "name": "stdin",
     "output_type": "stream",
     "text": [
      "Number1:  10\n",
      "Number2:  5\n"
     ]
    },
    {
     "name": "stdout",
     "output_type": "stream",
     "text": [
      "Addition: 15.0\n",
      "Subtraction: 5.0\n",
      "Multiplication: 50.0\n",
      "Division: 2.0\n"
     ]
    }
   ],
   "source": [
    "#7\n",
    "a = float(input(\"Number1: \"))\n",
    "b = float(input(\"Number2: \"))\n",
    "#Basic arithmetic operations\n",
    "#Addition -\n",
    "print (\"Addition:\", a + b)\n",
    "#Subtraction -\n",
    "print (\"Subtraction:\", a - b)\n",
    "#Multiplication -\n",
    "print (\"Multiplication:\", a * b)\n",
    "#Division -\n",
    "print (\"Division:\",a / b)"
   ]
  },
  {
   "cell_type": "raw",
   "id": "a619edb1-08e5-490d-b344-88dc1c1739ab",
   "metadata": {},
   "source": [
    "Q8 Write a program to demonstrate the use of logical operators."
   ]
  },
  {
   "cell_type": "code",
   "execution_count": 10,
   "id": "6ba8ec42-9f3a-4ef8-893e-d53027fae281",
   "metadata": {},
   "outputs": [
    {
     "name": "stdout",
     "output_type": "stream",
     "text": [
      "True\n",
      "True\n",
      "True\n"
     ]
    }
   ],
   "source": [
    "#8\n",
    "a = 10\n",
    "b = 5\n",
    "print (a > 5 and b < 10)\n",
    "print (a > 15 or b < 10)\n",
    "print (not(a > 15))"
   ]
  },
  {
   "cell_type": "raw",
   "id": "925e4057-f27e-4d59-9956-689fd71831c0",
   "metadata": {},
   "source": [
    "Q9 Write a Python program to convert user input from string to integer, float, and boolean types."
   ]
  },
  {
   "cell_type": "code",
   "execution_count": 11,
   "id": "2914e42e-4eb6-4235-9206-eddd822ada58",
   "metadata": {},
   "outputs": [
    {
     "name": "stdin",
     "output_type": "stream",
     "text": [
      "Give your number:  10\n"
     ]
    },
    {
     "name": "stdout",
     "output_type": "stream",
     "text": [
      "Integer: 10\n",
      "Float: 10.0\n",
      "Boolean: True\n"
     ]
    }
   ],
   "source": [
    "#9\n",
    "#By default the user input provided is a str value\n",
    "num = (input(\"Give your number: \"))\n",
    "print (\"Integer:\", int(num))\n",
    "print (\"Float:\", float(num))\n",
    "print (\"Boolean:\", bool(num))"
   ]
  },
  {
   "cell_type": "raw",
   "id": "f5cfef97-10d6-4484-9d7a-a2db50d78936",
   "metadata": {},
   "source": [
    "Q10 Write code to demonstrate type casting with list elements."
   ]
  },
  {
   "cell_type": "code",
   "execution_count": 12,
   "id": "6b2b2cd5-f1e2-4956-86fe-13725dd1386d",
   "metadata": {},
   "outputs": [
    {
     "data": {
      "text/plain": [
       "str"
      ]
     },
     "execution_count": 12,
     "metadata": {},
     "output_type": "execute_result"
    }
   ],
   "source": [
    "#10\n",
    "lst1 = [\"1\", \"2\", \"3\", \"4\"]\n",
    "type(lst1[0])"
   ]
  },
  {
   "cell_type": "code",
   "execution_count": 13,
   "id": "c747974b-7b14-4398-8768-2967178f058c",
   "metadata": {},
   "outputs": [
    {
     "name": "stdout",
     "output_type": "stream",
     "text": [
      "[1, 2, 3, 4]\n",
      "<class 'int'>\n"
     ]
    }
   ],
   "source": [
    "lst1 = [\"1\", \"2\", \"3\", \"4\"]\n",
    "int_lst = [int(x) for x in lst1]\n",
    "print(int_lst)\n",
    "print(type(int_lst[0]))"
   ]
  },
  {
   "cell_type": "raw",
   "id": "0f0e8d4c-ade8-4a04-bb25-52f049db4c3c",
   "metadata": {},
   "source": [
    "Q11 Write a program that checks if a number is positive, negative, or zero."
   ]
  },
  {
   "cell_type": "code",
   "execution_count": 14,
   "id": "ae868c3f-fe3c-4dc9-aba4-421db6dac9f4",
   "metadata": {},
   "outputs": [
    {
     "name": "stdin",
     "output_type": "stream",
     "text": [
      "Enter a number:  1\n"
     ]
    },
    {
     "name": "stdout",
     "output_type": "stream",
     "text": [
      "The number is positive.\n"
     ]
    }
   ],
   "source": [
    "#11\n",
    "#Program that checks if a number is positive, negative, or zero.\n",
    "num = float(input(\"Enter a number: \"))\n",
    "\n",
    "# Check conditions\n",
    "if num > 0:\n",
    "    print(\"The number is positive.\")\n",
    "elif num < 0:\n",
    "    print(\"The number is negative.\")\n",
    "else:\n",
    "    print(\"The number is zero.\")"
   ]
  },
  {
   "cell_type": "raw",
   "id": "739fd73c-c1f3-4cca-a01a-216bc717c252",
   "metadata": {},
   "source": [
    "Q12 Write a for loop to print numbers from 1 to 10."
   ]
  },
  {
   "cell_type": "code",
   "execution_count": 15,
   "id": "d8c918e5-daba-43fb-b4ed-a40fa4f227b5",
   "metadata": {},
   "outputs": [
    {
     "name": "stdout",
     "output_type": "stream",
     "text": [
      "1 2 3 4 5 6 7 8 9 10 "
     ]
    }
   ],
   "source": [
    "#12\n",
    "for num in range(1,11):\n",
    "    print (num, end = \" \")"
   ]
  },
  {
   "cell_type": "raw",
   "id": "aa39ecda-05a5-4ad0-90a1-a5103da546f8",
   "metadata": {},
   "source": [
    "Q13 Write a Python program to find the sum of all even numbers between 1 and 50."
   ]
  },
  {
   "cell_type": "code",
   "execution_count": 16,
   "id": "3ec6a1a2-32c3-4925-8c17-9c21a56a166f",
   "metadata": {},
   "outputs": [
    {
     "data": {
      "text/plain": [
       "650"
      ]
     },
     "execution_count": 16,
     "metadata": {},
     "output_type": "execute_result"
    }
   ],
   "source": [
    "#13\n",
    "#Here even_total is the sum of all even number from 1 to 50.\n",
    "even_total = 0 \n",
    "for a in range(0,51,2):\n",
    "    even_total += a\n",
    "even_total"
   ]
  },
  {
   "cell_type": "raw",
   "id": "34685237-96cb-4df9-b095-ffe14e98e93e",
   "metadata": {},
   "source": [
    "Q14 Write a program to reverse a string using a while loop."
   ]
  },
  {
   "cell_type": "code",
   "execution_count": 17,
   "id": "4d94643c-0575-4d85-91e0-3e4362b3c513",
   "metadata": {},
   "outputs": [
    {
     "name": "stdin",
     "output_type": "stream",
     "text": [
      "Enter a string to be reversed:  pwskills\n"
     ]
    },
    {
     "name": "stdout",
     "output_type": "stream",
     "text": [
      "Reversed string: sllikswp\n"
     ]
    }
   ],
   "source": [
    "#14\n",
    "# Write a program to reverse a string using a while loop.\n",
    "# Get input from user\n",
    "string = input(\"Enter a string to be reversed: \")\n",
    "\n",
    "# Initialize variables\n",
    "rev_string = \"\"\n",
    "a = len(string) - 1\n",
    "\n",
    "# Use while loop to reverse the string\n",
    "while a >= 0:\n",
    "    rev_string += string[a]\n",
    "    a -= 1\n",
    "\n",
    "# Output the reversed string\n",
    "print(\"Reversed string:\", rev_string)"
   ]
  },
  {
   "cell_type": "raw",
   "id": "32f6d58a-e7ff-4fe2-b465-2b3e44ee4a4b",
   "metadata": {},
   "source": [
    "Q15 Write a Python program to calculate the factorial of a number provided by the user using a while loop."
   ]
  },
  {
   "cell_type": "code",
   "execution_count": 18,
   "id": "588408f5-ce52-4736-954a-7f2936594639",
   "metadata": {},
   "outputs": [
    {
     "name": "stdin",
     "output_type": "stream",
     "text": [
      "Enter a number:  4\n"
     ]
    },
    {
     "name": "stdout",
     "output_type": "stream",
     "text": [
      "24\n"
     ]
    }
   ],
   "source": [
    "#15\n",
    "num = int(input(\"Enter a number: \"))\n",
    "fac_num = 1\n",
    "while num >= 1:\n",
    "    fac_num *= num\n",
    "    num -= 1\n",
    "print(fac_num)"
   ]
  },
  {
   "cell_type": "code",
   "execution_count": null,
   "id": "609c49f2-718c-490c-91d2-a8132b4d548b",
   "metadata": {},
   "outputs": [],
   "source": []
  }
 ],
 "metadata": {
  "kernelspec": {
   "display_name": "Python 3 (ipykernel)",
   "language": "python",
   "name": "python3"
  },
  "language_info": {
   "codemirror_mode": {
    "name": "ipython",
    "version": 3
   },
   "file_extension": ".py",
   "mimetype": "text/x-python",
   "name": "python",
   "nbconvert_exporter": "python",
   "pygments_lexer": "ipython3",
   "version": "3.13.3"
  }
 },
 "nbformat": 4,
 "nbformat_minor": 5
}
